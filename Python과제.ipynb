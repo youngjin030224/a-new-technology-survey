{
  "nbformat": 4,
  "nbformat_minor": 0,
  "metadata": {
    "colab": {
      "provenance": [],
      "authorship_tag": "ABX9TyOczvL7rWspTQomWJoks0O3",
      "include_colab_link": true
    },
    "kernelspec": {
      "name": "python3",
      "display_name": "Python 3"
    },
    "language_info": {
      "name": "python"
    }
  },
  "cells": [
    {
      "cell_type": "markdown",
      "metadata": {
        "id": "view-in-github",
        "colab_type": "text"
      },
      "source": [
        "<a href=\"https://colab.research.google.com/github/youngjin030224/a-new-technology-survey/blob/master/Python%EA%B3%BC%EC%A0%9C.ipynb\" target=\"_parent\"><img src=\"https://colab.research.google.com/assets/colab-badge.svg\" alt=\"Open In Colab\"/></a>"
      ]
    },
    {
      "cell_type": "code",
      "execution_count": null,
      "metadata": {
        "id": "_e8sGD1hDST5"
      },
      "outputs": [],
      "source": [
        "##선택문 10문제"
      ]
    },
    {
      "cell_type": "code",
      "source": [
        "##홀수 짝수 구분하기\n",
        "number = int(input(\"정수를 입력하세요 : \"))\n",
        "if(number % 2 ==0 ) :\n",
        "    print(\"입력한 정수는 짝수입니다\")\n",
        "else :\n",
        "  print(\"홀수입니다\")\n"
      ],
      "metadata": {
        "colab": {
          "base_uri": "https://localhost:8080/"
        },
        "id": "v1yHN7-iDdTL",
        "outputId": "7609dab2-54ce-4fc2-b4b2-1527dee944c0"
      },
      "execution_count": 7,
      "outputs": [
        {
          "output_type": "stream",
          "name": "stdout",
          "text": [
            "정수를 입력하세요 : 5\n",
            "홀수입니다\n"
          ]
        }
      ]
    },
    {
      "cell_type": "code",
      "source": [
        "#점수에따른 학점 계산하기\n",
        "score = int(input(\"점수를 입력하세요 : \"))\n",
        "if(score > 90) :\n",
        "  print(\"A학점\")\n",
        "elif(score > 80) :\n",
        "  print(\"B학점\")\n",
        "elif(score > 70) :\n",
        "  print(\"C학점\")\n",
        "elif(score > 60) :\n",
        "  print(\"D학점\")\n",
        "else:\n",
        "  print(\"F학점\")"
      ],
      "metadata": {
        "colab": {
          "base_uri": "https://localhost:8080/"
        },
        "id": "m1bUVb_aEyny",
        "outputId": "49988147-294b-4636-b98d-e014d1f778ee"
      },
      "execution_count": 10,
      "outputs": [
        {
          "output_type": "stream",
          "name": "stdout",
          "text": [
            "점수를 입력하세요 : 61\n",
            "D학점\n"
          ]
        }
      ]
    },
    {
      "cell_type": "code",
      "source": [
        "#세가지 숫자중 최대값 찾기\n",
        "x,y,z = map(int,input(\"3가지 정수를 입력하세요 : \").split())\n",
        "if( x < y):\n",
        "  if (z < y):\n",
        "    print(\"제일 큰값은\",y)\n",
        "  elif(x < z):\n",
        "    print(\"제일 큰값은\",z)\n",
        "  else :\n",
        "    print(\"제일 큰 값은\", x)\n",
        "else :\n",
        "  print(\"제일 큰 값은\",x)\n"
      ],
      "metadata": {
        "colab": {
          "base_uri": "https://localhost:8080/"
        },
        "id": "s1T_bNmwHzcJ",
        "outputId": "41c1421f-c379-45fa-9424-a2bd5c3e13f2"
      },
      "execution_count": 33,
      "outputs": [
        {
          "output_type": "stream",
          "name": "stdout",
          "text": [
            "3가지 정수를 입력하세요 : 1 3 5\n",
            "제일 큰값은 5\n"
          ]
        }
      ]
    },
    {
      "cell_type": "code",
      "source": [
        "#윤년 확인(조건 : 4로 나누어지면 윤녕, 100으로 나누어지면 윤년이아니고, 400으로 나누어지면 윤년)\n",
        "num = int(input( \"년도를 입력하세요 : \"))\n",
        "if(num % 4 == 0 and num % 100 != 0 or num % 400 == 0):\n",
        "  print(\"윤년입니다.\")\n",
        "else :\n",
        "  print(\"윤년이 아닙니다.\")"
      ],
      "metadata": {
        "colab": {
          "base_uri": "https://localhost:8080/"
        },
        "id": "UHJJtmu6IaKw",
        "outputId": "54dc895a-ef18-4b8e-cf18-8fd5f787b734"
      },
      "execution_count": 39,
      "outputs": [
        {
          "output_type": "stream",
          "name": "stdout",
          "text": [
            "년도를 입력하세요 : 100\n",
            "윤년이 아닙니다.\n"
          ]
        }
      ]
    },
    {
      "cell_type": "code",
      "source": [
        "#사용자가 입력한 나이에따라 영화관람 등급 출력\n",
        "#13세 미만 : G등급         13세 이상 17세 미만 : PG-13         17세 이상 : R등급\n",
        "age = int(input(\"나이를 입력하세요 : \"))\n",
        "if(age < 13):\n",
        "  print(\"G 등급\")\n",
        "elif(age <= 16):\n",
        "  print(\"PG-13\")\n",
        "else :\n",
        "  print(\"R 등급\")\n"
      ],
      "metadata": {
        "colab": {
          "base_uri": "https://localhost:8080/"
        },
        "id": "z9YUyfO7Lqq_",
        "outputId": "0db72d3e-0e4b-4cee-9a9e-d7bd597bc0a1"
      },
      "execution_count": 46,
      "outputs": [
        {
          "output_type": "stream",
          "name": "stdout",
          "text": [
            "나이를 입력하세요 : 17\n",
            "R 등급\n"
          ]
        }
      ]
    },
    {
      "cell_type": "code",
      "source": [
        "#비밀번호확인\n",
        "#사용자가 입력한 비밀번호가 1234라면 접속성공 아니면 비밀번호 오류라고 출력\n",
        "pwd = str(input(\"비밀번호를 입력하세요 : \"))\n",
        "if(pwd == \"1234\"):\n",
        "  print(\"접속 성공\")\n",
        "else:\n",
        "  print(\"비밀번호 오류\")"
      ],
      "metadata": {
        "colab": {
          "base_uri": "https://localhost:8080/"
        },
        "id": "0btpp9RFOwQm",
        "outputId": "0f913280-71f0-4988-fa44-6787eeb9af01"
      },
      "execution_count": 51,
      "outputs": [
        {
          "output_type": "stream",
          "name": "stdout",
          "text": [
            "비밀번호를 입력하세요 : 1234\n",
            "접속 성공\n"
          ]
        }
      ]
    },
    {
      "cell_type": "code",
      "source": [
        "#계산기\n",
        "#두 숫자와 연산자를 입력받으후 결과를 출력하는 프로그램(연산자가 잘못입력되면 연산자 오류로 출력)\n",
        "x,z,y = map(str,input(\"정수와 연산자를 입력\").split())\n",
        "x = int(x)\n",
        "y = int(y)\n",
        "if(z == \"+\"):\n",
        "  print(x + y)\n",
        "elif(z == \"-\"):\n",
        "  print(x - y)\n",
        "elif(z==\"*\"):\n",
        "  print(x*y)\n",
        "elif(z== \"/\"):\n",
        "  print(x / y)\n",
        "else:\n",
        "  print(\"잘못된 연산자\")"
      ],
      "metadata": {
        "colab": {
          "base_uri": "https://localhost:8080/"
        },
        "id": "FOfeo2HoPks-",
        "outputId": "62ca9c2f-c79f-4f07-ac4b-5d57a5b10e3b"
      },
      "execution_count": 60,
      "outputs": [
        {
          "output_type": "stream",
          "name": "stdout",
          "text": [
            "정수와 연산자를 입력4 7 4\n",
            "잘못된 연산자\n"
          ]
        }
      ]
    },
    {
      "cell_type": "code",
      "source": [
        "#나이로 출생 연도 추정\n",
        "#사용자가 나이를 입력하면, 현재 연도를 기준으로 출생연도를 추정하기\n",
        "name = str(input(\"이름을 입력하세요 : \"))\n",
        "age = int(input(\"나이를 입력하세요 : \"))\n",
        "userage = 2026 - age\n",
        "a = 2025\n",
        "if (userage < a):\n",
        "  print(name,\"님의 출생년도는 \",userage,\" 년생 입니다\")\n",
        "else:\n",
        "  print(\"나이가 잘못되었습니다\")"
      ],
      "metadata": {
        "colab": {
          "base_uri": "https://localhost:8080/"
        },
        "id": "YlDE39pRRcb1",
        "outputId": "a2a22093-f9f6-4489-c598-5de8ed53a717"
      },
      "execution_count": 68,
      "outputs": [
        {
          "output_type": "stream",
          "name": "stdout",
          "text": [
            "이름을 입력하세요 : 1111111\n",
            "나이를 입력하세요 : 544444444\n",
            "1111111 님의 출생년도는  -544442418  년생 입니다\n"
          ]
        }
      ]
    },
    {
      "cell_type": "code",
      "source": [
        "#단어길이에따른 출력\n",
        "#사용자가 입력한 단어가 다섯ㄱㄹ자 이상이면 긴단어입니다 출력 5글자 미만이면 짧은단어입니다 출력\n",
        "word = input(\"단어를 입력하세요: \")\n",
        "if len(word) >= 5:\n",
        "    print(\"긴 단어입니다\")\n",
        "else:\n",
        "    print(\"짧은 단어입니다\")"
      ],
      "metadata": {
        "id": "bCVvWWX1TGpk"
      },
      "execution_count": null,
      "outputs": []
    },
    {
      "cell_type": "code",
      "source": [
        "#사용자가 입력한 문자열이 Python 이면 정확합니다 출력 아니면 틀렸습니다 출력\n",
        "python = str(input(\"문자열을 입력하세요(대소문자 구분) : \"))\n",
        "if (python == \"Python\"):\n",
        "  print(\"정확합니다\")\n",
        "else:\n",
        "  print(\"틀렸습니다\")"
      ],
      "metadata": {
        "colab": {
          "base_uri": "https://localhost:8080/"
        },
        "id": "KiS9dR-LTmlE",
        "outputId": "fb5083d6-4a07-47a4-fdfd-85ffee544f2e"
      },
      "execution_count": 70,
      "outputs": [
        {
          "output_type": "stream",
          "name": "stdout",
          "text": [
            "문자열을 입력하세요(대소문자 구분) : pthon\n",
            "틀렸습니다\n"
          ]
        }
      ]
    },
    {
      "cell_type": "code",
      "source": [
        "#반복문 10문제"
      ],
      "metadata": {
        "id": "UYQfmPxHUhMD"
      },
      "execution_count": null,
      "outputs": []
    },
    {
      "cell_type": "code",
      "source": [
        "#1부터 100까지의 합 구하기\n",
        "a = 0\n",
        "for i in range(1, 100):\n",
        "  a = a + i\n",
        "print(a)"
      ],
      "metadata": {
        "colab": {
          "base_uri": "https://localhost:8080/"
        },
        "id": "HcWabpgTUjlz",
        "outputId": "a42cfed4-a61f-49b9-ba09-d2ede1ddd653"
      },
      "execution_count": 71,
      "outputs": [
        {
          "output_type": "stream",
          "name": "stdout",
          "text": [
            "4950\n"
          ]
        }
      ]
    },
    {
      "cell_type": "code",
      "source": [
        "#구구단 출력\n",
        "#사용자가 입력한 숫자의 구구단을 출력하기\n",
        "number = int(input(\"구구단을 볼 정수를 입력하세요 : \"))\n",
        "num1 = 1\n",
        "for i in range(1,10):\n",
        "  print(number,\" * \",num1,\" = \",number * num1)\n",
        "  num1+=1"
      ],
      "metadata": {
        "colab": {
          "base_uri": "https://localhost:8080/"
        },
        "id": "veXnqiA5VqW6",
        "outputId": "1d2347a7-2c89-4964-dd83-7781e9488f50"
      },
      "execution_count": 76,
      "outputs": [
        {
          "output_type": "stream",
          "name": "stdout",
          "text": [
            "구구단을 볼 정수를 입력하세요 : 2\n",
            "2  *  1  =  2\n",
            "2  *  2  =  4\n",
            "2  *  3  =  6\n",
            "2  *  4  =  8\n",
            "2  *  5  =  10\n",
            "2  *  6  =  12\n",
            "2  *  7  =  14\n",
            "2  *  8  =  16\n",
            "2  *  9  =  18\n"
          ]
        }
      ]
    },
    {
      "cell_type": "code",
      "source": [
        "#직각삼각형모양 별찍기\n",
        "#사용자에게 입력받은 숫자만큼 * 출력하기\n",
        "star = int(input(\"별찍을 숫자를 입력하세요 : \"))\n",
        "a = \"*\"\n",
        "for i in range(0,star):\n",
        "  print(a)\n",
        "  a += \"*\""
      ],
      "metadata": {
        "colab": {
          "base_uri": "https://localhost:8080/"
        },
        "id": "c9s1CWXJWxda",
        "outputId": "735f70a8-2495-4191-87ff-fa92ec45a566"
      },
      "execution_count": 79,
      "outputs": [
        {
          "output_type": "stream",
          "name": "stdout",
          "text": [
            "별찍을 숫자를 입력하세요 : 8\n",
            "*\n",
            "**\n",
            "***\n",
            "****\n",
            "*****\n",
            "******\n",
            "*******\n",
            "********\n"
          ]
        }
      ]
    },
    {
      "cell_type": "code",
      "source": [
        "#1부터 10까지 제곱출력\n",
        "x = 0\n",
        "for i in range(1,11):\n",
        "  x += i**2\n",
        "print(\"1부터 10까지의 제곱은\",x)\n"
      ],
      "metadata": {
        "colab": {
          "base_uri": "https://localhost:8080/"
        },
        "id": "2UUpU8qRYI-i",
        "outputId": "72146833-7551-43a1-d0a5-d660569a4fbf"
      },
      "execution_count": 99,
      "outputs": [
        {
          "output_type": "stream",
          "name": "stdout",
          "text": [
            "1부터 10까지의 제곱은 385\n"
          ]
        }
      ]
    },
    {
      "cell_type": "code",
      "source": [
        "#1부터 5까지의 숫자 출력하기\n",
        "num = 1\n",
        "for i in range(0,5):\n",
        "  print(num)\n",
        "  num += 1"
      ],
      "metadata": {
        "colab": {
          "base_uri": "https://localhost:8080/"
        },
        "id": "P76jUSMBb-XQ",
        "outputId": "2ee7d035-3926-4222-cf40-5aae8ceded73"
      },
      "execution_count": 101,
      "outputs": [
        {
          "output_type": "stream",
          "name": "stdout",
          "text": [
            "1\n",
            "2\n",
            "3\n",
            "4\n",
            "5\n"
          ]
        }
      ]
    },
    {
      "cell_type": "code",
      "source": [
        "#1부터 100까지의 숫자중 5의 배수만 출력하기\n",
        "for i in range(1,101):\n",
        "  if(i % 5 == 0):\n",
        "    print(i)"
      ],
      "metadata": {
        "colab": {
          "base_uri": "https://localhost:8080/",
          "height": 176
        },
        "id": "EtEasN4ycUnQ",
        "outputId": "796d35a3-8d10-447f-b7b6-ba8aa0c8be58"
      },
      "execution_count": 129,
      "outputs": [
        {
          "output_type": "error",
          "ename": "TypeError",
          "evalue": "'int' object is not callable",
          "traceback": [
            "\u001b[0;31m---------------------------------------------------------------------------\u001b[0m",
            "\u001b[0;31mTypeError\u001b[0m                                 Traceback (most recent call last)",
            "\u001b[0;32m<ipython-input-129-98b3abed4f60>\u001b[0m in \u001b[0;36m<cell line: 0>\u001b[0;34m()\u001b[0m\n\u001b[1;32m      2\u001b[0m \u001b[0;32mfor\u001b[0m \u001b[0mi\u001b[0m \u001b[0;32min\u001b[0m \u001b[0mrange\u001b[0m\u001b[0;34m(\u001b[0m\u001b[0;36m1\u001b[0m\u001b[0;34m,\u001b[0m\u001b[0;36m101\u001b[0m\u001b[0;34m)\u001b[0m\u001b[0;34m:\u001b[0m\u001b[0;34m\u001b[0m\u001b[0;34m\u001b[0m\u001b[0m\n\u001b[1;32m      3\u001b[0m   \u001b[0;32mif\u001b[0m\u001b[0;34m(\u001b[0m\u001b[0mi\u001b[0m \u001b[0;34m%\u001b[0m \u001b[0;36m5\u001b[0m \u001b[0;34m==\u001b[0m \u001b[0;36m0\u001b[0m\u001b[0;34m)\u001b[0m\u001b[0;34m:\u001b[0m\u001b[0;34m\u001b[0m\u001b[0;34m\u001b[0m\u001b[0m\n\u001b[0;32m----> 4\u001b[0;31m     \u001b[0mprint\u001b[0m\u001b[0;34m(\u001b[0m\u001b[0mi\u001b[0m\u001b[0;34m)\u001b[0m\u001b[0;34m\u001b[0m\u001b[0;34m\u001b[0m\u001b[0m\n\u001b[0m",
            "\u001b[0;31mTypeError\u001b[0m: 'int' object is not callable"
          ]
        }
      ]
    },
    {
      "cell_type": "code",
      "source": [
        "#1부터 100까지의 합구하기(3의 배수만 더하기)\n",
        "total = 0\n",
        "for i in range(1,101):\n",
        "  if(i % 3 == 0):\n",
        "    total += i\n",
        "\n",
        " print(totla)"
      ],
      "metadata": {
        "colab": {
          "base_uri": "https://localhost:8080/",
          "height": 106
        },
        "id": "5GCceUQ9fXsw",
        "outputId": "7358fdb0-5ae7-4fb1-b950-b4ab488e7209"
      },
      "execution_count": 126,
      "outputs": [
        {
          "output_type": "error",
          "ename": "IndentationError",
          "evalue": "unindent does not match any outer indentation level (<tokenize>, line 7)",
          "traceback": [
            "\u001b[0;36m  File \u001b[0;32m\"<tokenize>\"\u001b[0;36m, line \u001b[0;32m7\u001b[0m\n\u001b[0;31m    print(totla)\u001b[0m\n\u001b[0m    ^\u001b[0m\n\u001b[0;31mIndentationError\u001b[0m\u001b[0;31m:\u001b[0m unindent does not match any outer indentation level\n"
          ]
        }
      ]
    },
    {
      "cell_type": "code",
      "source": [
        "# 1부터 10까지 숫자에 대해 제곱과 세제곱을 출력\n",
        "for i in range(1, 11):\n",
        "    print(f\"{i}^2 = {i**2}, {i}^3 = {i**3}\")"
      ],
      "metadata": {
        "colab": {
          "base_uri": "https://localhost:8080/",
          "height": 176
        },
        "id": "larfdSrjhkGG",
        "outputId": "632dbe46-a449-4fd5-ca26-38a6ef48f483"
      },
      "execution_count": 128,
      "outputs": [
        {
          "output_type": "error",
          "ename": "TypeError",
          "evalue": "'int' object is not callable",
          "traceback": [
            "\u001b[0;31m---------------------------------------------------------------------------\u001b[0m",
            "\u001b[0;31mTypeError\u001b[0m                                 Traceback (most recent call last)",
            "\u001b[0;32m<ipython-input-128-458361483b42>\u001b[0m in \u001b[0;36m<cell line: 0>\u001b[0;34m()\u001b[0m\n\u001b[1;32m      1\u001b[0m \u001b[0;31m# 1부터 10까지 숫자에 대해 제곱과 세제곱을 출력\u001b[0m\u001b[0;34m\u001b[0m\u001b[0;34m\u001b[0m\u001b[0m\n\u001b[1;32m      2\u001b[0m \u001b[0;32mfor\u001b[0m \u001b[0mi\u001b[0m \u001b[0;32min\u001b[0m \u001b[0mrange\u001b[0m\u001b[0;34m(\u001b[0m\u001b[0;36m1\u001b[0m\u001b[0;34m,\u001b[0m \u001b[0;36m11\u001b[0m\u001b[0;34m)\u001b[0m\u001b[0;34m:\u001b[0m\u001b[0;34m\u001b[0m\u001b[0;34m\u001b[0m\u001b[0m\n\u001b[0;32m----> 3\u001b[0;31m     \u001b[0mprint\u001b[0m\u001b[0;34m(\u001b[0m\u001b[0;34mf\"{i}^2 = {i**2}, {i}^3 = {i**3}\"\u001b[0m\u001b[0;34m)\u001b[0m\u001b[0;34m\u001b[0m\u001b[0;34m\u001b[0m\u001b[0m\n\u001b[0m",
            "\u001b[0;31mTypeError\u001b[0m: 'int' object is not callable"
          ]
        }
      ]
    },
    {
      "cell_type": "code",
      "source": [
        "# 1부터 100까지 숫자 중 7의 배수만 출력\n",
        "for i in range(1, 101):\n",
        "    if i % 7 == 0:\n",
        "        print(i)"
      ],
      "metadata": {
        "colab": {
          "base_uri": "https://localhost:8080/",
          "height": 176
        },
        "id": "rVQ1IBeihj0W",
        "outputId": "04be3cb3-c507-4996-9720-b795697d7a92"
      },
      "execution_count": 130,
      "outputs": [
        {
          "output_type": "error",
          "ename": "TypeError",
          "evalue": "'int' object is not callable",
          "traceback": [
            "\u001b[0;31m---------------------------------------------------------------------------\u001b[0m",
            "\u001b[0;31mTypeError\u001b[0m                                 Traceback (most recent call last)",
            "\u001b[0;32m<ipython-input-130-0e947b09d616>\u001b[0m in \u001b[0;36m<cell line: 0>\u001b[0;34m()\u001b[0m\n\u001b[1;32m      2\u001b[0m \u001b[0;32mfor\u001b[0m \u001b[0mi\u001b[0m \u001b[0;32min\u001b[0m \u001b[0mrange\u001b[0m\u001b[0;34m(\u001b[0m\u001b[0;36m1\u001b[0m\u001b[0;34m,\u001b[0m \u001b[0;36m101\u001b[0m\u001b[0;34m)\u001b[0m\u001b[0;34m:\u001b[0m\u001b[0;34m\u001b[0m\u001b[0;34m\u001b[0m\u001b[0m\n\u001b[1;32m      3\u001b[0m     \u001b[0;32mif\u001b[0m \u001b[0mi\u001b[0m \u001b[0;34m%\u001b[0m \u001b[0;36m7\u001b[0m \u001b[0;34m==\u001b[0m \u001b[0;36m0\u001b[0m\u001b[0;34m:\u001b[0m\u001b[0;34m\u001b[0m\u001b[0;34m\u001b[0m\u001b[0m\n\u001b[0;32m----> 4\u001b[0;31m         \u001b[0mprint\u001b[0m\u001b[0;34m(\u001b[0m\u001b[0mi\u001b[0m\u001b[0;34m)\u001b[0m\u001b[0;34m\u001b[0m\u001b[0;34m\u001b[0m\u001b[0m\n\u001b[0m",
            "\u001b[0;31mTypeError\u001b[0m: 'int' object is not callable"
          ]
        }
      ]
    },
    {
      "cell_type": "code",
      "source": [
        "for i in range(1, 101):\n",
        "    if i % 5 == 0 and i % 3 == 0:\n",
        "        print(i)"
      ],
      "metadata": {
        "id": "D5CGNmkghynH"
      },
      "execution_count": null,
      "outputs": []
    }
  ]
}